{
 "cells": [
  {
   "cell_type": "code",
   "execution_count": 41,
   "metadata": {},
   "outputs": [],
   "source": [
    "import torch\n",
    "from dlc_practical_prologue import generate_pair_sets\n",
    "import torch.nn as nn"
   ]
  },
  {
   "cell_type": "code",
   "execution_count": 42,
   "metadata": {},
   "outputs": [],
   "source": [
    "train_input_0, train_target_0, train_classes_0, test_input_0, test_target_0, test_classes_0 = generate_pair_sets(1000)"
   ]
  },
  {
   "cell_type": "code",
   "execution_count": 43,
   "metadata": {},
   "outputs": [],
   "source": [
    "def normalize_data(tensor):\n",
    "    mu, std = tensor.mean(), tensor.std()\n",
    "    tmp = tensor.sub(mu).div(std)\n",
    "    return tmp"
   ]
  },
  {
   "cell_type": "code",
   "execution_count": 44,
   "metadata": {},
   "outputs": [],
   "source": [
    "def convert_to_one_hot_labels(target):\n",
    "    tmp = target.new_zeros(target.size(0), target.max() + 1)\n",
    "    tmp.scatter_(1, target.view(-1, 1), 1.0)\n",
    "    return tmp"
   ]
  },
  {
   "cell_type": "code",
   "execution_count": 45,
   "metadata": {},
   "outputs": [],
   "source": [
    "train_input = normalize_data(train_input_0)\n",
    "# train_target = convert_to_one_hot_labels(train_target_0)\n",
    "train_target = train_target_0\n",
    "\n",
    "test_input = normalize_data(test_input_0)\n",
    "# test_target = convert_to_one_hot_labels(test_target_0)\n",
    "test_target = test_target_0"
   ]
  },
  {
   "cell_type": "code",
   "execution_count": 46,
   "metadata": {},
   "outputs": [
    {
     "name": "stdout",
     "output_type": "stream",
     "text": [
      "tensor(-3.7104e-07)\n",
      "tensor(1.0000)\n"
     ]
    }
   ],
   "source": [
    "print(train_input.mean())\n",
    "print(train_input.std())"
   ]
  },
  {
   "cell_type": "code",
   "execution_count": 47,
   "metadata": {},
   "outputs": [
    {
     "name": "stdout",
     "output_type": "stream",
     "text": [
      "tensor(1.6006e-07)\n",
      "tensor(1.0000)\n"
     ]
    }
   ],
   "source": [
    "print(test_input.mean())\n",
    "print(test_input.std())"
   ]
  },
  {
   "cell_type": "code",
   "execution_count": 136,
   "metadata": {},
   "outputs": [],
   "source": [
    "import models\n",
    "import torch.nn.functional as F"
   ]
  },
  {
   "cell_type": "code",
   "execution_count": 144,
   "metadata": {},
   "outputs": [],
   "source": [
    "class BaselineNetwork2(nn.Module):\n",
    "    def __init__(self):\n",
    "        super(BaselineNetwork2, self).__init__()\n",
    "        self.fc1 = nn.Linear(2 * 14 * 14, 2)\n",
    "\n",
    "    def forward(self, x):\n",
    "        x = torch.flatten(x, 1)\n",
    "        x = self.fc1(x)\n",
    "        return x"
   ]
  },
  {
   "cell_type": "code",
   "execution_count": 223,
   "metadata": {},
   "outputs": [],
   "source": [
    "basic_model = models.BaselineNetwork()"
   ]
  },
  {
   "cell_type": "code",
   "execution_count": 229,
   "metadata": {},
   "outputs": [],
   "source": [
    "def train_model(model, train_input, train_target, train_classes):\n",
    "    lr, nb_epochs, batch_size = 1e-1, 20, 100 \n",
    "    \n",
    "    optimizer = torch.optim.SGD(model.parameters(), lr=lr)\n",
    "    criterion = nn.CrossEntropyLoss()\n",
    "    \n",
    "    for e in range(nb_epochs):\n",
    "        for inputs, targets in zip(train_input.split(batch_size),\n",
    "                                  train_target.split(batch_size)):\n",
    "            outputs = model(inputs)\n",
    "            loss = criterion(outputs, targets)\n",
    "            optimizer.zero_grad()\n",
    "            loss.backward()\n",
    "            optimizer.step()"
   ]
  },
  {
   "cell_type": "code",
   "execution_count": 230,
   "metadata": {},
   "outputs": [],
   "source": [
    "train_model(basic_model, train_input, train_target, train_classes_0)"
   ]
  },
  {
   "cell_type": "code",
   "execution_count": 231,
   "metadata": {},
   "outputs": [],
   "source": [
    "BATCH_SIZE = 10\n",
    "LOG_INTERVAL = 20"
   ]
  },
  {
   "cell_type": "code",
   "execution_count": 232,
   "metadata": {},
   "outputs": [],
   "source": [
    "def test(test_input, test_target, test_classes, model, criterion):\n",
    "    with torch.no_grad():\n",
    "        nb_data_errors = 0\n",
    "        loss_sum = 0\n",
    "        for b in range(0, test_input.size(0), BATCH_SIZE):\n",
    "            output = model(test_input.narrow(0, b, BATCH_SIZE))\n",
    "            loss = criterion(output, test_target.narrow(0, b, BATCH_SIZE))\n",
    "            loss_sum += loss\n",
    "            _, predicted_classes = torch.max(output, 1)\n",
    "\n",
    "            for k in range(BATCH_SIZE):\n",
    "                #print(repr(test_target[b + k]) + \" - \" + repr(predicted_classes[k]))\n",
    "                if test_target[b + k] != predicted_classes[k]:\n",
    "                    nb_data_errors = nb_data_errors + 1\n",
    "\n",
    "            if b % LOG_INTERVAL == 0:\n",
    "                pass\n",
    "                #print(\"Accuracy: \" + repr())\n",
    "                #print_test(batch_idx, len(val_loader), batch_time, losses, top1, persistent=False, color=color, title=title)\n",
    "    \n",
    "        print(\"Nb errors: \" + repr(nb_data_errors))\n",
    "        accuracy = 1 - (nb_data_errors / test_input.size(0))\n",
    "        print(\"Accuracy: \" + repr(accuracy * 100) + \"%\" + \" - Loss: \" + repr(loss_sum.item()))"
   ]
  },
  {
   "cell_type": "code",
   "execution_count": 233,
   "metadata": {},
   "outputs": [
    {
     "name": "stdout",
     "output_type": "stream",
     "text": [
      "Nb errors: 192\n",
      "Accuracy: 80.80000000000001% - Loss: 127.9828109741211\n"
     ]
    }
   ],
   "source": [
    "test(test_input, test_target, test_classes_0, basic_model, nn.CrossEntropyLoss())"
   ]
  },
  {
   "cell_type": "code",
   "execution_count": null,
   "metadata": {},
   "outputs": [],
   "source": []
  }
 ],
 "metadata": {
  "kernelspec": {
   "display_name": "Python 3",
   "language": "python",
   "name": "python3"
  },
  "language_info": {
   "codemirror_mode": {
    "name": "ipython",
    "version": 3
   },
   "file_extension": ".py",
   "mimetype": "text/x-python",
   "name": "python",
   "nbconvert_exporter": "python",
   "pygments_lexer": "ipython3",
   "version": "3.6.7"
  }
 },
 "nbformat": 4,
 "nbformat_minor": 4
}
