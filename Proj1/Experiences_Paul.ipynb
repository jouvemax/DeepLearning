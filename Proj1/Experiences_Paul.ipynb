{
 "cells": [
  {
   "cell_type": "code",
   "execution_count": 253,
   "metadata": {},
   "outputs": [],
   "source": [
    "import torch\n",
    "from torch import Tensor\n",
    "import torch.nn as nn\n",
    "import torch.nn.functional as F\n",
    "from torch import optim\n",
    "import dlc_practical_prologue as prologue"
   ]
  },
  {
   "cell_type": "code",
   "execution_count": 261,
   "metadata": {},
   "outputs": [],
   "source": [
    "train_input, train_target, train_classes, test_input, test_target, test_classes = prologue.generate_pair_sets(5)"
   ]
  },
  {
   "cell_type": "code",
   "execution_count": 263,
   "metadata": {},
   "outputs": [
    {
     "data": {
      "text/plain": [
       "torch.Size([5, 2, 14, 14])"
      ]
     },
     "execution_count": 263,
     "metadata": {},
     "output_type": "execute_result"
    }
   ],
   "source": [
    "train_input.shape"
   ]
  },
  {
   "cell_type": "code",
   "execution_count": 269,
   "metadata": {},
   "outputs": [
    {
     "data": {
      "text/plain": [
       "(tensor([1, 2]), tensor([3, 4]), tensor([5, 5]), tensor([6]))"
      ]
     },
     "execution_count": 269,
     "metadata": {},
     "output_type": "execute_result"
    }
   ],
   "source": [
    "a = torch.tensor([1,2,3,4,5,5,6])\n",
    "a.split(2)"
   ]
  },
  {
   "cell_type": "code",
   "execution_count": 266,
   "metadata": {},
   "outputs": [],
   "source": [
    "a, b, c,\\\n",
    "d,e = 1,2,3,4,5"
   ]
  },
  {
   "cell_type": "code",
   "execution_count": 270,
   "metadata": {},
   "outputs": [],
   "source": [
    "def train_model(model, train_input, train_target, train_classes):\n",
    "    lr, nb_epochs, batch_size = 1e-1, 25, 10 \n",
    "    \n",
    "    optimizer = torch.optim.SGD(model.parameters(), lr=lr)\n",
    "    criterion = nn.CrossEntropyLoss()\n",
    "    \n",
    "    for e in range(nb_epochs):\n",
    "        for inputs, targets in zip(train_input.split(batch_size),\n",
    "                                  train_target.split(batch_size)):\n",
    "            outputs = model(inputs)\n",
    "            loss = criterion(output, targets)\n",
    "            optimizer.zero_grad()\n",
    "            loss.backward()\n",
    "            optimizer.step()"
   ]
  },
  {
   "cell_type": "code",
   "execution_count": null,
   "metadata": {},
   "outputs": [],
   "source": [
    "def compute_nb_errors(model, data_input, data_target):\n",
    "    \n",
    "    nb_data_errors = 0\n",
    "    batch_size = 10\n",
    "    loss = 0\n",
    "    for inputs in range(0, data_input.size(0), batch_size):\n",
    "        output = model(data_input.narrow(0, b, batch_size))\n",
    "        _, predicted_classes = torch.max(output, 1)\n",
    "        for k in range(batch_size):\n",
    "            if data_target[b + k] != predicted_classes[k]:\n",
    "                nb_data_errors = nb_data_errors + 1\n",
    "\n",
    "    return nb_data_errors, loss"
   ]
  },
  {
   "cell_type": "code",
   "execution_count": null,
   "metadata": {},
   "outputs": [],
   "source": [
    "def eval_perf(model, nb_rounds=10, input_size=1000):\n",
    "    avg_train_accuracy = []\n",
    "    avg_test_accuracy = []\n",
    "    for r in nb_rounds:\n",
    "        train_input, train_target, train_classes,\\ \n",
    "        test_input, test_target, test_classes = prologue.generate_pair_sets(input_size)\n",
    "        train_model(model, train_input, train_target, train_classes)\n",
    "        print(\"Round {0}\".format(r))\n",
    "        print(\"Training accuracy {0}\".format(r))\n",
    "        model(train_input)"
   ]
  },
  {
   "cell_type": "code",
   "execution_count": 105,
   "metadata": {},
   "outputs": [],
   "source": [
    "class Net(nn.Module):\n",
    "    def __init__(self):\n",
    "        super(Net, self).__init__()\n",
    "        self.conv1 = nn.Conv2d(2, 32, kernel_size=5)\n",
    "        self.conv2 = nn.Conv2d(32, 64, kernel_size=5)\n",
    "        self.fc1 = nn.Linear(256, 200)\n",
    "        self.fc2 = nn.Linear(200, 10)\n",
    "        \n",
    "    def forward(self, x):\n",
    "        x = F.relu(F.max_pool2d(self.conv1(x), kernel_size=3, stride=3))\n",
    "        x = F.relu(F.max_pool2d(self.conv2(x), kernel_size=2, stride=2))\n",
    "        x = x.view(-1, 256)\n",
    "        x = F.relu(self.fc1(x))\n",
    "        x = self.fc2(x)\n",
    "        return x"
   ]
  },
  {
   "cell_type": "code",
   "execution_count": null,
   "metadata": {},
   "outputs": [],
   "source": []
  },
  {
   "cell_type": "code",
   "execution_count": 111,
   "metadata": {},
   "outputs": [
    {
     "data": {
      "text/plain": [
       "tensor([[-0.0913, -0.0200,  0.0030, -0.0962,  0.1913,  0.1090,  0.0159,  0.0417,\n",
       "          0.0241,  0.0448],\n",
       "        [-0.0880, -0.0477,  0.0063, -0.1196,  0.1619,  0.1032, -0.0210,  0.0658,\n",
       "          0.0362,  0.0040],\n",
       "        [-0.1163, -0.0493, -0.0060, -0.1117,  0.1532,  0.0950,  0.0468,  0.1366,\n",
       "         -0.0119,  0.0159],\n",
       "        [-0.1413, -0.0545,  0.0027, -0.1181,  0.1299,  0.1808,  0.0483,  0.0795,\n",
       "         -0.0469,  0.0661],\n",
       "        [-0.1703,  0.0127, -0.0242, -0.1119,  0.1747,  0.1011,  0.0228,  0.0724,\n",
       "          0.0114,  0.0539],\n",
       "        [-0.1219, -0.0790,  0.0088, -0.0991,  0.1071,  0.1609,  0.0322,  0.1009,\n",
       "         -0.0274, -0.0199],\n",
       "        [-0.0518, -0.0594,  0.0035, -0.1751,  0.1587,  0.1651,  0.0621,  0.0630,\n",
       "         -0.0473,  0.0549],\n",
       "        [-0.0471, -0.0638, -0.0220, -0.0373,  0.1960,  0.1246,  0.0284,  0.0700,\n",
       "         -0.0811,  0.0113],\n",
       "        [-0.1037, -0.0716,  0.0247, -0.1047,  0.1670,  0.0667,  0.0698,  0.0788,\n",
       "         -0.0129,  0.0317],\n",
       "        [-0.0700, -0.0216, -0.0108, -0.1250,  0.1827,  0.1090,  0.0106,  0.0654,\n",
       "         -0.0005,  0.0503],\n",
       "        [-0.0933, -0.0586, -0.0193, -0.0785,  0.1282,  0.1479,  0.0332,  0.0640,\n",
       "         -0.0646,  0.0455],\n",
       "        [-0.0222, -0.1042,  0.0711, -0.1456,  0.2066,  0.1614,  0.0563,  0.1301,\n",
       "         -0.0487,  0.0639]], grad_fn=<AddmmBackward>)"
      ]
     },
     "execution_count": 111,
     "metadata": {},
     "output_type": "execute_result"
    }
   ],
   "source": [
    "module = Net()\n",
    "module(x)"
   ]
  },
  {
   "cell_type": "code",
   "execution_count": 220,
   "metadata": {},
   "outputs": [],
   "source": [
    "n = 10000\n",
    "rand = 10\n",
    "x1 = torch.empty(n,2).random_(rand)\n",
    "y1 = torch.zeros(n)\n",
    "\n",
    "x2 = torch.empty(n,2).random_(rand)\n",
    "x2[:,0] = -x2[:,0]\n",
    "y2 = torch.ones(n)\n",
    "x3 = torch.empty(n,2).random_(rand)\n",
    "x3[:int(len(x3)/2)] = -x3[:int(len(x3)/2)]\n",
    "x3[int(len(x3)/2):, 1] = -x3[int(len(x3)/2):, 1]\n",
    "a = np.array(x3)\n",
    "np.random.shuffle(a)\n",
    "x3 = torch.tensor(a)\n",
    "y3 = torch.zeros(n) + 2\n",
    "\n",
    "train_input = torch.cat((x1,x2,x3)).double()\n",
    "train_target = torch.cat((y1,y2,y3)).double()"
   ]
  },
  {
   "cell_type": "code",
   "execution_count": 221,
   "metadata": {},
   "outputs": [
    {
     "data": {
      "text/plain": [
       "tensor([0, 0, 0, 0, 0, 0, 0, 0, 0, 0, 0, 0, 0, 0, 0, 0, 0, 0, 0, 0, 0, 0, 0, 0,\n",
       "        0, 0, 0, 0, 0, 0, 0, 0, 0, 0, 0, 0, 0, 0, 0, 0, 0, 0, 0, 0, 0, 0, 0, 0,\n",
       "        0, 0, 0, 0, 0, 0, 0, 0, 0, 0, 0, 0, 0, 0, 0, 0, 0, 0, 0, 0, 0, 0, 0, 0,\n",
       "        0, 0, 0, 0, 0, 0, 0, 0, 0, 0, 0, 0, 0, 0, 0, 0, 0, 0, 0, 0, 0, 0, 0, 0,\n",
       "        0, 0, 0, 0])"
      ]
     },
     "execution_count": 221,
     "metadata": {},
     "output_type": "execute_result"
    }
   ],
   "source": [
    "train_target.narrow(0, 6, mini_batch_size).long()"
   ]
  },
  {
   "cell_type": "code",
   "execution_count": 222,
   "metadata": {},
   "outputs": [],
   "source": [
    "x1 = torch.empty(n,2).random_(rand)\n",
    "y1 = torch.zeros(n)\n",
    "\n",
    "x2 = torch.empty(n,2).random_(rand)\n",
    "x2[:,0] = -x2[:,0]\n",
    "y2 = torch.ones(n) \n",
    "x3 = torch.empty(n,2).random_(rand)\n",
    "x3[:int(len(x3)/2)] = -x3[:int(len(x3)/2)]\n",
    "x3[int(len(x3)/2):, 1] = -x3[int(len(x3)/2):, 1]\n",
    "a = np.array(x3)\n",
    "np.random.shuffle(a)\n",
    "x3 = torch.tensor(a)\n",
    "y3 = torch.ones(n) + 1\n",
    "\n",
    "test_input = torch.cat((x1,x2,x3)).double()\n",
    "test_target = torch.cat((y1,y2,y3)).double()"
   ]
  },
  {
   "cell_type": "code",
   "execution_count": 223,
   "metadata": {},
   "outputs": [],
   "source": [
    "import numpy as np"
   ]
  },
  {
   "cell_type": "code",
   "execution_count": 245,
   "metadata": {},
   "outputs": [
    {
     "name": "stdout",
     "output_type": "stream",
     "text": [
      "0\n",
      "1\n",
      "2\n",
      "3\n",
      "4\n",
      "5\n",
      "6\n",
      "7\n",
      "8\n",
      "9\n",
      "10\n",
      "11\n",
      "12\n",
      "13\n",
      "14\n",
      "15\n",
      "16\n",
      "17\n",
      "18\n",
      "19\n",
      "20\n",
      "21\n",
      "22\n",
      "23\n",
      "24\n",
      "25\n",
      "26\n",
      "27\n",
      "28\n",
      "29\n",
      "30\n",
      "31\n",
      "32\n",
      "33\n",
      "34\n",
      "35\n",
      "36\n",
      "37\n",
      "38\n",
      "39\n",
      "40\n",
      "41\n",
      "42\n",
      "43\n",
      "44\n",
      "45\n",
      "46\n",
      "47\n",
      "48\n",
      "49\n",
      "50\n",
      "51\n",
      "52\n",
      "53\n",
      "54\n",
      "55\n",
      "56\n",
      "57\n",
      "58\n",
      "59\n",
      "60\n",
      "61\n",
      "62\n",
      "63\n",
      "64\n",
      "65\n",
      "66\n",
      "67\n",
      "68\n",
      "69\n",
      "70\n",
      "71\n",
      "72\n",
      "73\n",
      "74\n",
      "75\n",
      "76\n",
      "77\n",
      "78\n",
      "79\n",
      "80\n",
      "81\n",
      "82\n",
      "83\n",
      "84\n",
      "85\n",
      "86\n",
      "87\n",
      "88\n",
      "89\n",
      "90\n",
      "91\n",
      "92\n",
      "93\n",
      "94\n",
      "95\n",
      "96\n",
      "97\n",
      "98\n",
      "99\n",
      "100\n",
      "101\n",
      "102\n",
      "103\n",
      "104\n",
      "105\n",
      "106\n",
      "107\n",
      "108\n",
      "109\n",
      "110\n",
      "111\n",
      "112\n",
      "113\n",
      "114\n",
      "115\n",
      "116\n",
      "117\n",
      "118\n",
      "119\n",
      "120\n",
      "121\n",
      "122\n",
      "123\n",
      "124\n",
      "125\n",
      "126\n",
      "127\n",
      "128\n",
      "129\n",
      "130\n",
      "131\n",
      "132\n",
      "133\n",
      "134\n",
      "135\n",
      "136\n",
      "137\n",
      "138\n",
      "139\n",
      "140\n",
      "141\n",
      "142\n",
      "143\n",
      "144\n",
      "145\n",
      "146\n",
      "147\n",
      "148\n",
      "149\n",
      "150\n",
      "151\n",
      "152\n",
      "153\n",
      "154\n",
      "155\n",
      "156\n",
      "157\n",
      "158\n",
      "159\n",
      "160\n",
      "161\n",
      "162\n",
      "163\n",
      "164\n",
      "165\n",
      "166\n",
      "167\n",
      "168\n",
      "169\n",
      "170\n",
      "171\n",
      "172\n",
      "173\n",
      "174\n",
      "175\n",
      "176\n",
      "177\n",
      "178\n",
      "179\n",
      "180\n",
      "181\n",
      "182\n",
      "183\n",
      "184\n",
      "185\n",
      "186\n",
      "187\n",
      "188\n",
      "189\n",
      "190\n",
      "191\n",
      "192\n",
      "193\n",
      "194\n",
      "195\n",
      "196\n",
      "197\n",
      "198\n",
      "199\n",
      "200\n",
      "201\n",
      "202\n",
      "203\n",
      "204\n",
      "205\n",
      "206\n",
      "207\n",
      "208\n",
      "209\n",
      "210\n",
      "211\n",
      "212\n",
      "213\n",
      "214\n",
      "215\n",
      "216\n",
      "217\n",
      "218\n",
      "219\n",
      "220\n",
      "221\n",
      "222\n",
      "223\n",
      "224\n",
      "225\n",
      "226\n",
      "227\n",
      "228\n",
      "229\n",
      "230\n",
      "231\n",
      "232\n",
      "233\n",
      "234\n",
      "235\n",
      "236\n",
      "237\n",
      "238\n",
      "239\n",
      "240\n",
      "241\n",
      "242\n",
      "243\n",
      "244\n",
      "245\n",
      "246\n",
      "247\n",
      "248\n",
      "249\n"
     ]
    }
   ],
   "source": [
    "model = nn.Sequential(nn.Linear(2,3))\n",
    "criterion = nn.CrossEntropyLoss()\n",
    "optimizer = optim.SGD(model.parameters(), lr = 1e-1)\n",
    "\n",
    "mini_batch_size = 100\n",
    "nb_epochs = 250\n",
    "for e in range(nb_epochs):\n",
    "    print(e)\n",
    "    for b in range(0, train_input.size(0), mini_batch_size):\n",
    "        output = model(train_input.narrow(0, b, mini_batch_size).float())\n",
    "        loss = criterion(output, train_target.narrow(0, b, mini_batch_size).long())\n",
    "        model.zero_grad()\n",
    "        loss.backward()\n",
    "        optimizer.step()"
   ]
  },
  {
   "cell_type": "code",
   "execution_count": 230,
   "metadata": {},
   "outputs": [
    {
     "data": {
      "text/plain": [
       "tensor([0, 0, 0,  ..., 2, 2, 2])"
      ]
     },
     "execution_count": 230,
     "metadata": {},
     "output_type": "execute_result"
    }
   ],
   "source": [
    "pred"
   ]
  },
  {
   "cell_type": "code",
   "execution_count": 239,
   "metadata": {},
   "outputs": [
    {
     "data": {
      "text/plain": [
       "30000"
      ]
     },
     "execution_count": 239,
     "metadata": {},
     "output_type": "execute_result"
    }
   ],
   "source": [
    "len(predicted)"
   ]
  },
  {
   "cell_type": "code",
   "execution_count": 246,
   "metadata": {},
   "outputs": [
    {
     "data": {
      "text/plain": [
       "tensor(11069)"
      ]
     },
     "execution_count": 246,
     "metadata": {},
     "output_type": "execute_result"
    }
   ],
   "source": [
    "predicted = model(test_input.float()).argmax(axis=1) \n",
    "(predicted != test_target).sum()"
   ]
  },
  {
   "cell_type": "code",
   "execution_count": 250,
   "metadata": {},
   "outputs": [
    {
     "name": "stdout",
     "output_type": "stream",
     "text": [
      "Parameter containing:\n",
      "tensor([[-0.0689,  2.7824],\n",
      "        [-0.1511,  3.6180],\n",
      "        [-0.1273, -5.8546]], requires_grad=True)\n",
      "Parameter containing:\n",
      "tensor([-0.7896, -0.6637,  1.2921], requires_grad=True)\n"
     ]
    }
   ],
   "source": [
    "for m in model.parameters():\n",
    "    print(m)"
   ]
  },
  {
   "cell_type": "code",
   "execution_count": null,
   "metadata": {},
   "outputs": [],
   "source": [
    "prin"
   ]
  },
  {
   "cell_type": "code",
   "execution_count": 236,
   "metadata": {},
   "outputs": [
    {
     "data": {
      "text/plain": [
       "0"
      ]
     },
     "execution_count": 236,
     "metadata": {},
     "output_type": "execute_result"
    }
   ],
   "source": [
    "np.array([True]).sum()"
   ]
  },
  {
   "cell_type": "code",
   "execution_count": null,
   "metadata": {},
   "outputs": [],
   "source": []
  }
 ],
 "metadata": {
  "kernelspec": {
   "display_name": "Python 3",
   "language": "python",
   "name": "python3"
  },
  "language_info": {
   "codemirror_mode": {
    "name": "ipython",
    "version": 3
   },
   "file_extension": ".py",
   "mimetype": "text/x-python",
   "name": "python",
   "nbconvert_exporter": "python",
   "pygments_lexer": "ipython3",
   "version": "3.6.7"
  }
 },
 "nbformat": 4,
 "nbformat_minor": 4
}
